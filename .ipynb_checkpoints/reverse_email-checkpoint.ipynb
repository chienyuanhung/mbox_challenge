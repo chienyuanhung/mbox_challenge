{
 "cells": [
  {
   "cell_type": "code",
   "execution_count": 1,
   "metadata": {},
   "outputs": [],
   "source": [
    "# import the libraries\n",
    "import re\n",
    "import numpy as np"
   ]
  },
  {
   "cell_type": "code",
   "execution_count": 2,
   "metadata": {},
   "outputs": [],
   "source": [
    "# read mbox_full, store in a file 'lines'\n",
    "file = 'mbox.full'\n",
    "\n",
    "with open(file, 'r') as text:\n",
    "    lines = text.readlines()\n"
   ]
  },
  {
   "cell_type": "code",
   "execution_count": 3,
   "metadata": {},
   "outputs": [
    {
     "data": {
      "text/plain": [
       "['From nobody Mon Sep 17 00:00:00 2001\\n',\n",
       " 'From: A U Thor <a.u.thor@example.com>\\n',\n",
       " 'Subject: check bogus body header (date)\\n',\n",
       " 'Date: Fri, 9 Jun 2006 00:44:16 -0700\\n',\n",
       " '\\n',\n",
       " 'Date: bogus\\n',\n",
       " '\\n',\n",
       " 'and some content\\n',\n",
       " '\\n',\n",
       " '---\\n',\n",
       " 'diff --git a/foo b/foo\\n',\n",
       " 'index e69de29..d95f3ad 100644\\n',\n",
       " '--- a/foo\\n',\n",
       " '+++ b/foo\\n',\n",
       " '@@ -0,0 +1 @@\\n',\n",
       " '+content\\n',\n",
       " '\\n']"
      ]
     },
     "execution_count": 3,
     "metadata": {},
     "output_type": "execute_result"
    }
   ],
   "source": [
    "# divide file into email sections \n",
    "len_lines = len(lines)\n",
    "e_sections = []\n",
    "sub_section = []\n",
    "for i in np.arange((len_lines)):\n",
    "    sub_section.append(lines[i])\n",
    "    try:\n",
    "        if re.findall(r\"^From\\s\",lines[i+1]):\n",
    "            e_sections.append(sub_section)\n",
    "            sub_section = []\n",
    "    except IndexError:\n",
    "        e_sections.append(sub_section)\n",
    "        break\n",
    "    \n",
    "e_sections[15]"
   ]
  },
  {
   "cell_type": "code",
   "execution_count": 4,
   "metadata": {},
   "outputs": [],
   "source": [
    "# function to get the index of the sentence which fit the pattern\n",
    "def find_pattern(list, pattern):\n",
    "    # find the lengt of the list\n",
    "    len_list = np.arange(len(list))\n",
    "    # find the index for the sentence that fit the pattern\n",
    "    for i in len_list:\n",
    "        if re.findall(pattern,list[i]):\n",
    "            return i\n",
    "        "
   ]
  },
  {
   "cell_type": "code",
   "execution_count": 5,
   "metadata": {},
   "outputs": [],
   "source": [
    "# find the header section for each email\n",
    "def find_header(list):\n",
    "    # length of the list\n",
    "    l = len(list)\n",
    "    # header contains \"From:\", \"Date:\", \"Subject:\" and end with \"/n\" before the main body (if any) \n",
    "    # index for \"From:\", \"Date:\", \"Subject:\"\n",
    "    i = find_pattern(list, r\"^From:\")\n",
    "    j = find_pattern(list, r\"^Date:\")\n",
    "    k = find_pattern(list, r\"^Subject:\")\n",
    "    # find the end of the header\n",
    "    # the last index for \"From:\", \"Date:\", \"Subject:\"\n",
    "    m = max([i, j , k]) \n",
    "    # number of lines after the last index for the first empty line (\\n) to appear\n",
    "    try:\n",
    "        n = find_pattern(list[m:l], r\"^\\n\")\n",
    "        # number of lines after the first empty line for the main body\n",
    "        p = find_pattern(list[(m+n):l], r\"\\b\")\n",
    "        return list[0: (m+n+p)]\n",
    "    # if no main body for the email\n",
    "    except TypeError: \n",
    "        return list[0: (m+n)]\n",
    "        \n",
    "\n"
   ]
  },
  {
   "cell_type": "code",
   "execution_count": 27,
   "metadata": {},
   "outputs": [],
   "source": [
    "# function for find the footer \n",
    "# footer starting with pattern \"\\d\\.\\d\\.\" such as the string \"1.4.0.gg2b\" and end at the end of the email\n",
    "def find_footer(list):\n",
    "    # length of the list\n",
    "    l = len(list)\n",
    "    # the index for the starting length of the footer\n",
    "    i = find_pattern(list, r\"^\\d\\.\\d\\.\")\n",
    "    # if no footer pattern found in the email, return empty list\n",
    "    if i == None:\n",
    "        return []\n",
    "    else:\n",
    "        return list[i:l]"
   ]
  },
  {
   "cell_type": "code",
   "execution_count": 28,
   "metadata": {},
   "outputs": [
    {
     "data": {
      "text/plain": [
       "0"
      ]
     },
     "execution_count": 28,
     "metadata": {},
     "output_type": "execute_result"
    }
   ],
   "source": [
    "len(find_footer(e_sections[4]))"
   ]
  },
  {
   "cell_type": "code",
   "execution_count": 14,
   "metadata": {},
   "outputs": [
    {
     "data": {
      "text/plain": [
       "['From nobody Mon Sep 17 00:00:00 2001\\n',\n",
       " 'From: A (zzz)\\n',\n",
       " '      U\\n',\n",
       " '      Thor\\n',\n",
       " '      <a.u.thor@example.com> (Comment)\\n',\n",
       " 'Date: Fri, 9 Jun 2006 00:44:16 -0700\\n',\n",
       " 'Subject: [PATCH] a commit.\\n',\n",
       " '\\n']"
      ]
     },
     "execution_count": 14,
     "metadata": {},
     "output_type": "execute_result"
    }
   ],
   "source": [
    "len(find_header(e_sections[0]))"
   ]
  },
  {
   "cell_type": "code",
   "execution_count": null,
   "metadata": {},
   "outputs": [],
   "source": []
  }
 ],
 "metadata": {
  "kernelspec": {
   "display_name": "Python [conda env:PythonData] *",
   "language": "python",
   "name": "conda-env-PythonData-py"
  },
  "language_info": {
   "codemirror_mode": {
    "name": "ipython",
    "version": 3
   },
   "file_extension": ".py",
   "mimetype": "text/x-python",
   "name": "python",
   "nbconvert_exporter": "python",
   "pygments_lexer": "ipython3",
   "version": "3.6.8"
  }
 },
 "nbformat": 4,
 "nbformat_minor": 2
}
