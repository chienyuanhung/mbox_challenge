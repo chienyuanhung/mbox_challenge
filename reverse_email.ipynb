{
 "cells": [
  {
   "cell_type": "code",
   "execution_count": 21,
   "metadata": {},
   "outputs": [],
   "source": [
    "# import the libraries\n",
    "import re\n",
    "import numpy as np"
   ]
  },
  {
   "cell_type": "code",
   "execution_count": 24,
   "metadata": {},
   "outputs": [],
   "source": [
    "# read mbox_full, store in a file 'lines'\n",
    "file = 'mbox.full'\n",
    "\n",
    "with open(file, 'r') as text:\n",
    "    lines = text.readlines()\n"
   ]
  },
  {
   "cell_type": "code",
   "execution_count": 45,
   "metadata": {},
   "outputs": [
    {
     "data": {
      "text/plain": [
       "['From nobody Mon Sep 17 00:00:00 2001\\n',\n",
       " 'From: A U Thor <a.u.thor@example.com>\\n',\n",
       " 'Subject: check bogus body header (date)\\n',\n",
       " 'Date: Fri, 9 Jun 2006 00:44:16 -0700\\n',\n",
       " '\\n',\n",
       " 'Date: bogus\\n',\n",
       " '\\n',\n",
       " 'and some content\\n',\n",
       " '\\n',\n",
       " '---\\n',\n",
       " 'diff --git a/foo b/foo\\n',\n",
       " 'index e69de29..d95f3ad 100644\\n',\n",
       " '--- a/foo\\n',\n",
       " '+++ b/foo\\n',\n",
       " '@@ -0,0 +1 @@\\n',\n",
       " '+content\\n',\n",
       " '\\n']"
      ]
     },
     "execution_count": 45,
     "metadata": {},
     "output_type": "execute_result"
    }
   ],
   "source": [
    "# divide file into email sections \n",
    "len_lines = len(lines)\n",
    "e_sections = []\n",
    "sub_section = []\n",
    "for i in np.arange((len_lines)):\n",
    "    sub_section.append(lines[i])\n",
    "    try:\n",
    "        if re.findall(r\"^From\\s\",lines[i+1]):\n",
    "            e_sections.append(sub_section)\n",
    "            sub_section = []\n",
    "    except IndexError:\n",
    "        e_sections.append(sub_section)\n",
    "        break\n",
    "    \n",
    "e_sections[15]"
   ]
  },
  {
   "cell_type": "code",
   "execution_count": 13,
   "metadata": {
    "scrolled": true
   },
   "outputs": [
    {
     "name": "stdout",
     "output_type": "stream",
     "text": [
      "From nobody Mon Sep 17 00:00:00 2001\n",
      "\n",
      "From nobody Mon Sep 17 00:00:00 2001\n",
      "\n",
      "From nobody Mon Sep 17 00:00:00 2001\n",
      "\n",
      "From nobody Sat Aug 27 23:07:49 2005\n",
      "\n",
      "From nobody Sat Aug 27 23:07:49 2005\n",
      "\n",
      "From nobody Mon Sep 17 00:00:00 2001\n",
      "\n",
      "From nobody Mon Sep 17 00:00:00 2001\n",
      "\n",
      "From nobody Mon Sep 17 00:00:00 2001\n",
      "\n",
      "From nobody Mon Sep 17 00:00:00 2001\n",
      "\n",
      "From b9704a518e21158433baa2cc2d591fea687967f6 Mon Sep 17 00:00:00 2001\n",
      "\n",
      "From nobody Fri Aug  8 22:24:03 2008\n",
      "\n",
      "From bda@mnsspb.ru Wed Nov 12 17:54:41 2008\n",
      "\n",
      "From nobody Mon Sep 17 00:00:00 2001\n",
      "\n",
      "From nobody Mon Sep 17 00:00:00 2001\n",
      "\n",
      "From nobody Mon Sep 17 00:00:00 2001\n",
      "\n",
      "From nobody Mon Sep 17 00:00:00 2001\n",
      "\n",
      "16\n"
     ]
    }
   ],
   "source": [
    "i = 0\n",
    "for row in lines:\n",
    "    if re.findall(r\"^From\\s\",row):\n",
    "        i += 1\n",
    "        print(row)\n",
    "print(i)"
   ]
  },
  {
   "cell_type": "code",
   "execution_count": 19,
   "metadata": {},
   "outputs": [
    {
     "name": "stdout",
     "output_type": "stream",
     "text": [
      "1.4.0.g6f2b\n",
      "\n",
      "1.4.0.g6f2b\n",
      "\n",
      "1.4.0.g6f2b\n",
      "\n",
      "1.4.0.g6f2b\n",
      "\n",
      "1.5.6.2.455.g1efb2\n",
      "\n",
      "1.6.0.rc2\n",
      "\n",
      "1.5.6.5\n",
      "\n",
      "1.6.4.1\n",
      "\n",
      "8\n"
     ]
    }
   ],
   "source": [
    "i = 0\n",
    "for row in lines:\n",
    "    if re.findall(r\"^\\d\\.\\d\\.\",row):\n",
    "        i += 1\n",
    "        print(row)\n",
    "print(i)"
   ]
  },
  {
   "cell_type": "code",
   "execution_count": null,
   "metadata": {},
   "outputs": [],
   "source": []
  }
 ],
 "metadata": {
  "kernelspec": {
   "display_name": "Python [conda env:PythonData] *",
   "language": "python",
   "name": "conda-env-PythonData-py"
  },
  "language_info": {
   "codemirror_mode": {
    "name": "ipython",
    "version": 3
   },
   "file_extension": ".py",
   "mimetype": "text/x-python",
   "name": "python",
   "nbconvert_exporter": "python",
   "pygments_lexer": "ipython3",
   "version": "3.6.8"
  }
 },
 "nbformat": 4,
 "nbformat_minor": 2
}
